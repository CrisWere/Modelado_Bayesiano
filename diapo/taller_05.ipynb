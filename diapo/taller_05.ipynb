{
 "cells": [
  {
   "cell_type": "code",
   "execution_count": 1,
   "metadata": {
    "slideshow": {
     "slide_type": "skip"
    }
   },
   "outputs": [],
   "source": [
    "import numpy as np\n",
    "import matplotlib.pyplot as plt\n",
    "from scipy import stats\n",
    "import pandas as pd\n",
    "import pymc3 as pm\n",
    "import arviz as az\n",
    "from IPython.display import IFrame"
   ]
  },
  {
   "cell_type": "code",
   "execution_count": 2,
   "metadata": {
    "slideshow": {
     "slide_type": "skip"
    }
   },
   "outputs": [],
   "source": [
    "az.style.use('arviz-darkgrid')"
   ]
  },
  {
   "cell_type": "code",
   "execution_count": 3,
   "metadata": {
    "slideshow": {
     "slide_type": "skip"
    }
   },
   "outputs": [
    {
     "data": {
      "text/html": [
       "<style>\n",
       "\n",
       ".CodeMirror {\n",
       "    width: 100vw;\n",
       "}\n",
       "\n",
       ".container {\n",
       "    width: 99% !important;\n",
       "}\n",
       "\n",
       ".rendered_html {\n",
       "  font-size:0.8em;\n",
       "}\n",
       ".rendered_html table, .rendered_html th, .rendered_html tr, .rendered_html td {\n",
       "     font-size: 100%;\n",
       "}\n",
       "\n",
       "\n",
       "body {\n",
       "  font-family: Ubuntu;\n",
       "  background: #F0F0F0;\n",
       "  background-color: #F0F0F0;\n",
       "}\n",
       "\n",
       "\n",
       ".reveal h1,\n",
       ".reveal h2,\n",
       ".reveal h3,\n",
       ".reveal h4,\n",
       ".reveal h5,\n",
       ".reveal h6 {\n",
       "  margin: 0 0 20px 0;\n",
       "  color: #2a2eec;\n",
       "  font-family: Ubuntu;\n",
       "  line-height: 0.9em;\n",
       "  letter-spacing: 0.02em;\n",
       "  text-transform: none;\n",
       "  text-shadow: none;\n",
       "}\n",
       "\n",
       ".reveal blockquote {\n",
       "  display: block;\n",
       "  position: relative;\n",
       "  background: #fa7c17;\n",
       "  border-radius: 15px;\n",
       "  box-shadow: 0px 0px 2px rgba(0, 0, 0, 0.2);\n",
       "  font-weight: bold;\n",
       "}\n",
       "\n",
       "</style>\n"
      ],
      "text/plain": [
       "<IPython.core.display.HTML object>"
      ]
     },
     "metadata": {},
     "output_type": "display_data"
    }
   ],
   "source": [
    "%%HTML\n",
    "<style>\n",
    "\n",
    ".CodeMirror {\n",
    "    width: 100vw;\n",
    "}\n",
    "\n",
    ".container {\n",
    "    width: 99% !important;\n",
    "}\n",
    "\n",
    ".rendered_html {\n",
    "  font-size:0.8em;\n",
    "}\n",
    ".rendered_html table, .rendered_html th, .rendered_html tr, .rendered_html td {\n",
    "     font-size: 100%;\n",
    "}\n",
    "\n",
    "\n",
    "body {\n",
    "  font-family: Ubuntu;\n",
    "  background: #F0F0F0;\n",
    "  background-color: #F0F0F0;\n",
    "}\n",
    "\n",
    "\n",
    ".reveal h1,\n",
    ".reveal h2,\n",
    ".reveal h3,\n",
    ".reveal h4,\n",
    ".reveal h5,\n",
    ".reveal h6 {\n",
    "  margin: 0 0 20px 0;\n",
    "  color: #2a2eec;\n",
    "  font-family: Ubuntu;\n",
    "  line-height: 0.9em;\n",
    "  letter-spacing: 0.02em;\n",
    "  text-transform: none;\n",
    "  text-shadow: none;\n",
    "}\n",
    "\n",
    ".reveal blockquote {\n",
    "  display: block;\n",
    "  position: relative;\n",
    "  background: #fa7c17;\n",
    "  border-radius: 15px;\n",
    "  box-shadow: 0px 0px 2px rgba(0, 0, 0, 0.2);\n",
    "  font-weight: bold;\n",
    "}\n",
    "\n",
    "</style>"
   ]
  },
  {
   "cell_type": "code",
   "execution_count": 4,
   "metadata": {
    "slideshow": {
     "slide_type": "skip"
    }
   },
   "outputs": [],
   "source": [
    "from traitlets.config.manager import BaseJSONConfigManager\n",
    "path = \"/home/osvaldo/anaconda3/etc/jupyter/nbconfig\"\n",
    "cm = BaseJSONConfigManager(config_dir=path)\n",
    "cm.update(\"livereveal\", {\n",
    "              \"theme\": \"serif\",\n",
    "              \"transition\": \"zoom\",\n",
    "              \"start_slideshow_at\": \"selected\",\n",
    "              \"controls\": \"True\",\n",
    "              \"progress\": \"False\",\n",
    "              \"shortcut\": \"False\",});\n"
   ]
  },
  {
   "cell_type": "markdown",
   "metadata": {
    "slideshow": {
     "slide_type": "slide"
    }
   },
   "source": [
    "<center><img src=\"img/logo_inst.png\" width=\"700\">\n",
    "<br>\n",
    "<br>\n",
    "<br>\n",
    "<br>\n",
    "<h1 align=\"center\">Análisis exploratorio de modelos Bayesianos</h1> \n",
    "<h2 align=\"center\">Comparación de modelos</h2>\n",
    "\n",
    "\n",
    "\n",
    "<br>\n",
    "<br>\n",
    "<br>\n",
    "<br>\n",
    "<br>"
   ]
  },
  {
   "cell_type": "markdown",
   "metadata": {
    "slideshow": {
     "slide_type": "slide"
    }
   },
   "source": [
    "## ArviZ: Análisis exploratorio de modelos Bayesianos\n",
    "\n",
    "<br>\n",
    "<br>\n",
    "<center><img src=\"img/logo_arviz.png\" width=400></center>\n",
    "<br>\n",
    "\n",
    "* <font color = \"gray\"> Diagnosticar la calidad de la inferencia </font>\n",
    "* <font color = \"gray\"> Criticar a los modelos, incluyendo la evaluación de los supuestos del modelo y de sus predicciones </font>\n",
    "* Comparación de modelos, incluyendo la selección y promediado de modelos\n",
    "* <font color = \"gray\"> Preparar los resultados para una audiencia particular </font>"
   ]
  },
  {
   "cell_type": "markdown",
   "metadata": {
    "slideshow": {
     "slide_type": "slide"
    }
   },
   "source": [
    "## Medidas de exactitud predictiva\n",
    "\n",
    "* **exactitud dentro de la muestra**: la exactitud medida con los datos utilizados para ajustar un modelo\n",
    "\n",
    "* **exactitud fuera de la muestra** (o exactitud predictiva): la exactitud del modelo medido con datos no utilizados para ajustar el modelo\n",
    "\n",
    "\n",
    "* Para cualquier combinación de datos y modelos, el valor esperado de la exactitud dentro de la muestra será menor que el valor de la exactitud fuera de la muestra.\n",
    "\n",
    "* Si usamos la exactitud dentro de la muestra podríamos pensar que tenemos un modelo mejor de lo que realmente es\n",
    "\n",
    "* Utilizar la exactitud fuera de la muestra, requiere dejar de lado una parte de los datos durante el ajuste, y usarlo solo para la evaluación\n",
    "\n",
    "\n",
    "* Alternativas:\n",
    "     * Validación cruzada: estrategia empírica basada en dividir los datos disponibles en subconjuntos que se utilizan de forma alternada para ajustar y evaluar.\n",
    "     * Criterios de información: familia de expresiones para estimar la precisión fuera de la muestra a partir de la precisión dentro de la muestra"
   ]
  },
  {
   "cell_type": "markdown",
   "metadata": {
    "slideshow": {
     "slide_type": "slide"
    }
   },
   "source": [
    "## Criterio de información de Akaike (AIC)\n",
    "\n",
    "* Este es un criterio de información muy conocido y ampliamente utilizado, especialmente fuera del mundo Bayesiano. Se define como:\n",
    "\n",
    "$$AIC = -2 \\sum_{i}^{N} \\log p(y_i \\mid \\hat{\\theta}_{mle}) + 2 k $$\n",
    "\n",
    "Donde\n",
    "* $\\hat {\\theta}_{mle}$ es una estimación puntual y no una distribución, la suma se realiza sobre las $N$ observaciones\n",
    "\n",
    "* El primer término calcula la bondad del ajuste y el segundo penaliza los modelos complejos, $k$ es la cantidad de parámetros del modelo."
   ]
  },
  {
   "cell_type": "markdown",
   "metadata": {
    "slideshow": {
     "slide_type": "slide"
    }
   },
   "source": [
    "## Criterio de información ampliamente aplicable (WAIC)\n",
    "\n",
    "* Esta es la versión completamente Bayesiana de AIC.\n",
    "\n",
    "* WAIC también tiene dos términos, uno que mide la bondad del ajuste y otro que penaliza los modelos complejos:\n",
    "\n",
    "\n",
    "$$WAIC = \\color{grey}{-2} \\left [ \\sum_i^N \\log \\left(\\frac{1}{S} \\sum_{s}^S p(y_i \\mid \\theta^s) \\right)\n",
    "- \\sum_i^N  \\left(\\mathop{\\mathbb{V}}_{s}^S \\log p(y_i \\mid \\theta^s) \\right) \\right ]$$\n",
    "\n",
    "\n",
    "Donde $N$ es la cantidad de observaciones y $S$ la cantidad de muestras del posterior (asumimos que estamos usando un método como MCMC)\n",
    "\n",
    "* si multiplicamos por $\\color{grey}{-2}$, obtendremos WAIC en la escala \"deviance\" valores más bajos de WAIC --> \"mejor\" modelo\n",
    "* si no multiplicamos por $\\color{grey}{-2}$, obtendremos WAIC en la escala \"log\" valores más altos de WAIC --> \"mejor\" modelo"
   ]
  },
  {
   "cell_type": "markdown",
   "metadata": {
    "slideshow": {
     "slide_type": "slide"
    }
   },
   "source": [
    "## Leche de primates\n",
    "\n",
    "* Queremos explorar la composición de la leche en varias especies de primates.\n",
    "\n",
    "* Se presume que las hembras de especies de primates con cerebros más grandes producen leche más nutritiva\n",
    "\n",
    "* Usaremos 3 variables\n",
    "     * La proporción de neocorteza respecto de la masa total del cerebro.\n",
    "     * el logaritmo de la masa corporal de las madres\n",
    "     * Las kilocalorías por gramo de leche (variable respuesta)\n",
    "    \n",
    "* Usaremos 3 modelos lineales diferentes:\n",
    "     1. Un modelo que usa solo la variable neocorteza\n",
    "     2. Un modelo que usa solo el logaritmo de la variable de masa\n",
    "     3. Un modelo que usa ambas variables\n",
    "\n",
    "[Statistical Rethinking](http://xcelab.net/rm/statistical-rethinking/)"
   ]
  },
  {
   "cell_type": "code",
   "execution_count": 5,
   "metadata": {
    "slideshow": {
     "slide_type": "slide"
    }
   },
   "outputs": [
    {
     "data": {
      "text/html": [
       "<div>\n",
       "<style scoped>\n",
       "    .dataframe tbody tr th:only-of-type {\n",
       "        vertical-align: middle;\n",
       "    }\n",
       "\n",
       "    .dataframe tbody tr th {\n",
       "        vertical-align: top;\n",
       "    }\n",
       "\n",
       "    .dataframe thead th {\n",
       "        text-align: right;\n",
       "    }\n",
       "</style>\n",
       "<table border=\"1\" class=\"dataframe\">\n",
       "  <thead>\n",
       "    <tr style=\"text-align: right;\">\n",
       "      <th></th>\n",
       "      <th>kcal.per.g</th>\n",
       "      <th>neocortex</th>\n",
       "      <th>log_mass</th>\n",
       "    </tr>\n",
       "  </thead>\n",
       "  <tbody>\n",
       "    <tr>\n",
       "      <th>0</th>\n",
       "      <td>0.49</td>\n",
       "      <td>-0.123706</td>\n",
       "      <td>-0.831353</td>\n",
       "    </tr>\n",
       "    <tr>\n",
       "      <th>1</th>\n",
       "      <td>0.47</td>\n",
       "      <td>-0.030706</td>\n",
       "      <td>0.158647</td>\n",
       "    </tr>\n",
       "    <tr>\n",
       "      <th>2</th>\n",
       "      <td>0.56</td>\n",
       "      <td>-0.030706</td>\n",
       "      <td>0.181647</td>\n",
       "    </tr>\n",
       "    <tr>\n",
       "      <th>3</th>\n",
       "      <td>0.89</td>\n",
       "      <td>0.000294</td>\n",
       "      <td>-0.579353</td>\n",
       "    </tr>\n",
       "    <tr>\n",
       "      <th>4</th>\n",
       "      <td>0.92</td>\n",
       "      <td>0.012294</td>\n",
       "      <td>-1.885353</td>\n",
       "    </tr>\n",
       "  </tbody>\n",
       "</table>\n",
       "</div>"
      ],
      "text/plain": [
       "   kcal.per.g  neocortex  log_mass\n",
       "0        0.49  -0.123706 -0.831353\n",
       "1        0.47  -0.030706  0.158647\n",
       "2        0.56  -0.030706  0.181647\n",
       "3        0.89   0.000294 -0.579353\n",
       "4        0.92   0.012294 -1.885353"
      ]
     },
     "execution_count": 5,
     "metadata": {},
     "output_type": "execute_result"
    }
   ],
   "source": [
    "d = pd.read_csv('../datos/milk.csv')\n",
    "d.iloc[:,1:] = d.iloc[:,1:] - d.iloc[:,1:].mean()\n",
    "d.head()"
   ]
  },
  {
   "cell_type": "code",
   "execution_count": 6,
   "metadata": {
    "slideshow": {
     "slide_type": "slide"
    }
   },
   "outputs": [
    {
     "name": "stderr",
     "output_type": "stream",
     "text": [
      "Auto-assigning NUTS sampler...\n",
      "Initializing NUTS using jitter+adapt_diag...\n",
      "Multiprocess sampling (2 chains in 2 jobs)\n",
      "NUTS: [sigma, beta, alpha]\n"
     ]
    },
    {
     "data": {
      "text/html": [
       "\n",
       "    <div>\n",
       "        <style>\n",
       "            /* Turns off some styling */\n",
       "            progress {\n",
       "                /* gets rid of default border in Firefox and Opera. */\n",
       "                border: none;\n",
       "                /* Needs to be in here for Safari polyfill so background images work as expected. */\n",
       "                background-size: auto;\n",
       "            }\n",
       "            .progress-bar-interrupted, .progress-bar-interrupted::-webkit-progress-bar {\n",
       "                background: #F44336;\n",
       "            }\n",
       "        </style>\n",
       "      <progress value='5000' class='' max='5000', style='width:300px; height:20px; vertical-align: middle;'></progress>\n",
       "      100.00% [5000/5000 00:03<00:00 Sampling 2 chains, 0 divergences]\n",
       "    </div>\n",
       "    "
      ],
      "text/plain": [
       "<IPython.core.display.HTML object>"
      ]
     },
     "metadata": {},
     "output_type": "display_data"
    }
   ],
   "source": [
    "with pm.Model() as model_0:\n",
    "    alpha = pm.Normal('alpha', mu=0, sigma=10)\n",
    "    beta = pm.Normal('beta', mu=0, sigma=10)\n",
    "    sigma = pm.HalfNormal('sigma', 10)\n",
    "    \n",
    "    mu = alpha + beta * d['neocortex']\n",
    "    \n",
    "    kcal = pm.Normal('kcal', mu=mu, sigma=sigma, observed=d['kcal.per.g'])\n",
    "    trace_0 = pm.sample(2000)"
   ]
  },
  {
   "cell_type": "code",
   "execution_count": 7,
   "metadata": {
    "slideshow": {
     "slide_type": "slide"
    }
   },
   "outputs": [
    {
     "name": "stderr",
     "output_type": "stream",
     "text": [
      "Auto-assigning NUTS sampler...\n",
      "Initializing NUTS using jitter+adapt_diag...\n",
      "Multiprocess sampling (2 chains in 2 jobs)\n",
      "NUTS: [sigma, beta, alpha]\n"
     ]
    },
    {
     "data": {
      "text/html": [
       "\n",
       "    <div>\n",
       "        <style>\n",
       "            /* Turns off some styling */\n",
       "            progress {\n",
       "                /* gets rid of default border in Firefox and Opera. */\n",
       "                border: none;\n",
       "                /* Needs to be in here for Safari polyfill so background images work as expected. */\n",
       "                background-size: auto;\n",
       "            }\n",
       "            .progress-bar-interrupted, .progress-bar-interrupted::-webkit-progress-bar {\n",
       "                background: #F44336;\n",
       "            }\n",
       "        </style>\n",
       "      <progress value='5000' class='' max='5000', style='width:300px; height:20px; vertical-align: middle;'></progress>\n",
       "      100.00% [5000/5000 00:02<00:00 Sampling 2 chains, 0 divergences]\n",
       "    </div>\n",
       "    "
      ],
      "text/plain": [
       "<IPython.core.display.HTML object>"
      ]
     },
     "metadata": {},
     "output_type": "display_data"
    }
   ],
   "source": [
    "with pm.Model() as model_1:\n",
    "    alpha = pm.Normal('alpha', mu=0, sigma=10)\n",
    "    beta = pm.Normal('beta', mu=0, sigma=1)\n",
    "    sigma = pm.HalfNormal('sigma', 10)\n",
    "    \n",
    "    mu = alpha + beta * d['log_mass']\n",
    "    \n",
    "    kcal = pm.Normal('kcal', mu=mu, sigma=sigma, observed=d['kcal.per.g'])\n",
    "    \n",
    "    trace_1 = pm.sample(2000)"
   ]
  },
  {
   "cell_type": "code",
   "execution_count": 8,
   "metadata": {
    "slideshow": {
     "slide_type": "slide"
    }
   },
   "outputs": [
    {
     "name": "stderr",
     "output_type": "stream",
     "text": [
      "Auto-assigning NUTS sampler...\n",
      "Initializing NUTS using jitter+adapt_diag...\n",
      "Multiprocess sampling (2 chains in 2 jobs)\n",
      "NUTS: [sigma, beta, alpha]\n"
     ]
    },
    {
     "data": {
      "text/html": [
       "\n",
       "    <div>\n",
       "        <style>\n",
       "            /* Turns off some styling */\n",
       "            progress {\n",
       "                /* gets rid of default border in Firefox and Opera. */\n",
       "                border: none;\n",
       "                /* Needs to be in here for Safari polyfill so background images work as expected. */\n",
       "                background-size: auto;\n",
       "            }\n",
       "            .progress-bar-interrupted, .progress-bar-interrupted::-webkit-progress-bar {\n",
       "                background: #F44336;\n",
       "            }\n",
       "        </style>\n",
       "      <progress value='3000' class='' max='3000', style='width:300px; height:20px; vertical-align: middle;'></progress>\n",
       "      100.00% [3000/3000 00:02<00:00 Sampling 2 chains, 0 divergences]\n",
       "    </div>\n",
       "    "
      ],
      "text/plain": [
       "<IPython.core.display.HTML object>"
      ]
     },
     "metadata": {},
     "output_type": "display_data"
    }
   ],
   "source": [
    "with pm.Model() as model_2:\n",
    "    alpha = pm.Normal('alpha', mu=0, sigma=10)\n",
    "    beta = pm.Normal('beta', mu=0, sigma=1, shape=2)\n",
    "    sigma = pm.HalfNormal('sigma', 10)\n",
    "\n",
    "    mu = alpha + pm.math.dot(beta, d[['neocortex','log_mass']].T)\n",
    "\n",
    "    kcal = pm.Normal('kcal', mu=mu, sigma=sigma, observed=d['kcal.per.g'])\n",
    "\n",
    "    trace_2 = pm.sample(1000)"
   ]
  },
  {
   "cell_type": "code",
   "execution_count": 9,
   "metadata": {
    "slideshow": {
     "slide_type": "slide"
    }
   },
   "outputs": [
    {
     "data": {
      "image/png": "[encoded data removed]",
      "text/plain": [
       "<Figure size 1000x500 with 1 Axes>"
      ]
     },
     "metadata": {},
     "output_type": "display_data"
    }
   ],
   "source": [
    "traces = [trace_0, trace_1, trace_2]\n",
    "az.plot_forest(traces, figsize=(10, 5));"
   ]
  },
  {
   "cell_type": "code",
   "execution_count": 10,
   "metadata": {
    "slideshow": {
     "slide_type": "slide"
    }
   },
   "outputs": [
    {
     "name": "stderr",
     "output_type": "stream",
     "text": [
      "/home/osvaldo/proyectos/00_BM/arviz/arviz/stats/stats.py:1210: UserWarning: For one or more samples the posterior variance of the log predictive densities exceeds 0.4. This could be indication of WAIC starting to fail. \n",
      "See http://arxiv.org/abs/1507.04544 for details\n",
      "  \"For one or more samples the posterior variance of the log predictive \"\n"
     ]
    },
    {
     "data": {
      "text/html": [
       "<div>\n",
       "<style scoped>\n",
       "    .dataframe tbody tr th:only-of-type {\n",
       "        vertical-align: middle;\n",
       "    }\n",
       "\n",
       "    .dataframe tbody tr th {\n",
       "        vertical-align: top;\n",
       "    }\n",
       "\n",
       "    .dataframe thead th {\n",
       "        text-align: right;\n",
       "    }\n",
       "</style>\n",
       "<table border=\"1\" class=\"dataframe\">\n",
       "  <thead>\n",
       "    <tr style=\"text-align: right;\">\n",
       "      <th></th>\n",
       "      <th>rank</th>\n",
       "      <th>waic</th>\n",
       "      <th>p_waic</th>\n",
       "      <th>d_waic</th>\n",
       "      <th>weight</th>\n",
       "      <th>se</th>\n",
       "      <th>dse</th>\n",
       "      <th>warning</th>\n",
       "      <th>waic_scale</th>\n",
       "    </tr>\n",
       "  </thead>\n",
       "  <tbody>\n",
       "    <tr>\n",
       "      <th>model_2</th>\n",
       "      <td>0</td>\n",
       "      <td>-15.403</td>\n",
       "      <td>2.58168</td>\n",
       "      <td>0</td>\n",
       "      <td>0.895016</td>\n",
       "      <td>3.1138</td>\n",
       "      <td>0</td>\n",
       "      <td>True</td>\n",
       "      <td>deviance</td>\n",
       "    </tr>\n",
       "    <tr>\n",
       "      <th>model_1</th>\n",
       "      <td>1</td>\n",
       "      <td>-9.02251</td>\n",
       "      <td>1.97675</td>\n",
       "      <td>6.38052</td>\n",
       "      <td>0.0480791</td>\n",
       "      <td>3.96108</td>\n",
       "      <td>2.07303</td>\n",
       "      <td>True</td>\n",
       "      <td>deviance</td>\n",
       "    </tr>\n",
       "    <tr>\n",
       "      <th>model_0</th>\n",
       "      <td>2</td>\n",
       "      <td>-7.06862</td>\n",
       "      <td>1.97391</td>\n",
       "      <td>8.33442</td>\n",
       "      <td>0.0569051</td>\n",
       "      <td>4.72559</td>\n",
       "      <td>4.04454</td>\n",
       "      <td>False</td>\n",
       "      <td>deviance</td>\n",
       "    </tr>\n",
       "  </tbody>\n",
       "</table>\n",
       "</div>"
      ],
      "text/plain": [
       "        rank     waic   p_waic   d_waic     weight       se      dse warning  \\\n",
       "model_2    0  -15.403  2.58168        0   0.895016   3.1138        0    True   \n",
       "model_1    1 -9.02251  1.97675  6.38052  0.0480791  3.96108  2.07303    True   \n",
       "model_0    2 -7.06862  1.97391  8.33442  0.0569051  4.72559  4.04454   False   \n",
       "\n",
       "        waic_scale  \n",
       "model_2   deviance  \n",
       "model_1   deviance  \n",
       "model_0   deviance  "
      ]
     },
     "execution_count": 10,
     "metadata": {},
     "output_type": "execute_result"
    }
   ],
   "source": [
    "model_dict = dict(zip(['model_0', 'model_1', 'model_2'], traces))\n",
    "comp = az.compare(model_dict)\n",
    "comp"
   ]
  },
  {
   "cell_type": "markdown",
   "metadata": {
    "slideshow": {
     "slide_type": "slide"
    }
   },
   "source": [
    "## Interpretando la comparación\n",
    "\n",
    "* waic: contiene los valores de WAIC\n",
    "* p_waic: el *número efectivo de parámetros* (no lo tomen demasiado en serio)\n",
    "* d_waic: la diferencia relativa entre el valor de WAIC para el modelo mejor clasificado y el valor de WAIC para cada modelo\n",
    "* peso: peso relativo (o probabilidad) de cada modelo (dentro de los modelos comparados)\n",
    "* se: el error estándar de WAIC\n",
    "* dse: el error estándar de las diferencias entre el valor de WAIC para el modelo mejor clasificado y el valor de WAIC para cada modelo.\n",
    "* warning: indica que el cálculo de WAIC puede no ser confiable, esta advertencia se basa en un valor de corte determinado empíricamente y debe interpretarse con precaución"
   ]
  },
  {
   "cell_type": "code",
   "execution_count": 11,
   "metadata": {
    "slideshow": {
     "slide_type": "slide"
    }
   },
   "outputs": [
    {
     "data": {
      "image/png": "[encoded data removed]",
      "text/plain": [
       "<Figure size 600x300 with 1 Axes>"
      ]
     },
     "metadata": {},
     "output_type": "display_data"
    }
   ],
   "source": [
    "az.plot_compare(comp, insample_dev=False, plot_ic_diff=False);"
   ]
  },
  {
   "cell_type": "code",
   "execution_count": 12,
   "metadata": {
    "slideshow": {
     "slide_type": "skip"
    }
   },
   "outputs": [
    {
     "name": "stderr",
     "output_type": "stream",
     "text": [
      "/home/osvaldo/proyectos/00_BM/arviz/arviz/stats/stats.py:1210: UserWarning: For one or more samples the posterior variance of the log predictive densities exceeds 0.4. This could be indication of WAIC starting to fail. \n",
      "See http://arxiv.org/abs/1507.04544 for details\n",
      "  \"For one or more samples the posterior variance of the log predictive \"\n"
     ]
    }
   ],
   "source": [
    "waic_i_2 = az.waic(trace_2, pointwise=True).waic_i\n",
    "waic_i_1 = az.waic(trace_1, pointwise=True).waic_i"
   ]
  },
  {
   "cell_type": "code",
   "execution_count": 13,
   "metadata": {
    "slideshow": {
     "slide_type": "slide"
    }
   },
   "outputs": [
    {
     "data": {
      "image/png": "[encoded data removed]",
      "text/plain": [
       "<Figure size 720x480 with 1 Axes>"
      ]
     },
     "metadata": {},
     "output_type": "display_data"
    }
   ],
   "source": [
    "plt.plot(d.index, waic_i_2 - waic_i_1, 'C0.')\n",
    "plt.axhline(0, color='k', ls='--')\n",
    "plt.ylabel('Δ WAIC')\n",
    "plt.xlabel('Index');"
   ]
  },
  {
   "cell_type": "markdown",
   "metadata": {
    "slideshow": {
     "slide_type": "slide"
    }
   },
   "source": [
    "## Promediando modelos\n",
    "\n",
    "\n",
    "* En lugar de elegir el mejor modelo, podemos obtener un *metamodelo* promediando todos los modelos\n",
    "\n",
    "$$w_i = \\frac {e^{ - \\frac{1}{2} dIC_i }} {\\sum_j^M e^{ - \\frac{1}{2} dIC_j }}$$\n",
    "\n",
    "\n",
    "* Podemos usar los pesos obtenidos de `az.compare`\n",
    "* Podemos usar `pm.sample_posterior_predictive_w` para obtener predicciones de los modelos ponderados"
   ]
  },
  {
   "cell_type": "code",
   "execution_count": 14,
   "metadata": {
    "slideshow": {
     "slide_type": "slide"
    }
   },
   "outputs": [],
   "source": [
    "# weighted predictions\n",
    "ppc_w = pm.sample_posterior_predictive_w(traces, 2000, [model_0, model_1, model_2],\n",
    "                        weights=comp.weight.sort_index(ascending=True), progressbar=False)\n",
    "\n",
    "# predictions from model 2\n",
    "ppc_2 = pm.sample_posterior_predictive(trace_2, 2000, model_2, progressbar=False)"
   ]
  },
  {
   "cell_type": "code",
   "execution_count": 15,
   "metadata": {
    "scrolled": true,
    "slideshow": {
     "slide_type": "slide"
    }
   },
   "outputs": [
    {
     "data": {
      "image/png": "[encoded data removed]",
      "text/plain": [
       "<Figure size 720x480 with 1 Axes>"
      ]
     },
     "metadata": {},
     "output_type": "display_data"
    }
   ],
   "source": [
    "mean_w = ppc_w['kcal'].mean()\n",
    "hpd_w = pm.hpd(ppc_w['kcal']).mean(0)\n",
    "\n",
    "mean = ppc_2['kcal'].mean()\n",
    "hpd = pm.hpd(ppc_2['kcal']).mean(0)\n",
    "\n",
    "#plt.figure(figsize=(6,3))\n",
    "plt.errorbar(mean, 0.2, xerr=[[mean-hpd[0]], [hpd[1]-mean]], fmt='o', label='modelo 2')\n",
    "plt.errorbar(mean_w, 0, xerr=[[mean_w-hpd_w[0]], [hpd_w[1]-mean_w]], fmt='o', label='modelos pesados')\n",
    "\n",
    "plt.yticks([])\n",
    "plt.ylim(-0.5, 1)\n",
    "plt.xlabel('kcal per g')\n",
    "plt.legend();"
   ]
  },
  {
   "cell_type": "markdown",
   "metadata": {
    "slideshow": {
     "slide_type": "slide"
    }
   },
   "source": [
    "# Factores de Bayes\n",
    "\n",
    "Reescribamos el teorema de Bayes, haciendo explícita la dependencia de la inferencia en un modelo dado $ M $:\n",
    "\n",
    "$$p(\\theta \\mid y, M_k) = {\\frac {p(y \\mid \\theta, M_k)p(\\theta \\mid M_k)}{p(y \\mid M_k)}}$$\n",
    "\n",
    "El término en el denominador se conoce como marginal likelihood, el cociente entre dos likelihood marginales se conoce como factor de Bayes:\n",
    "\n",
    "$$BF = \\frac{p(y \\mid M_0)}{p(y \\mid M_1)}$$\n",
    "\n",
    "* cuando BF > 1, el modelo 0 explica los datos mejor que el modelo 1"
   ]
  },
  {
   "cell_type": "markdown",
   "metadata": {
    "slideshow": {
     "slide_type": "slide"
    }
   },
   "source": [
    "* Usar $p(y \\mid M_k)$ para comparar modelos está bien si todo los **modelos** tienen la misma probabilidad a priori.\n",
    "\n",
    "* Caso contrario tenemos que calcular los _posterior odds_:\n",
    "\n",
    "$$\\underbrace{\\frac{p(M_0 \\mid y)}{p(M_1 \\mid y)}}_\\text{posterior odds} = \\underbrace{\\frac{p(y \\mid M_0)}{p(y \\mid M_1)}}_\\text{Bayes factors} \\, \\underbrace{\\frac{p(\\ M_0 \\ )}{p(\\ M_1 \\ )}}_\\text{prior odds}$$"
   ]
  },
  {
   "cell_type": "markdown",
   "metadata": {
    "slideshow": {
     "slide_type": "slide"
    }
   },
   "source": [
    "## Algunos comentarios sobre los factores de Bayes\n",
    "\n",
    "\n",
    "$$p(y \\mid M_k) = \\int_{\\theta_k} p(y \\mid \\theta_k, M_k) p(\\theta_k, M_k) d\\theta_k$$\n",
    "\n",
    "\n",
    "* Lo bueno: los modelos con más parámetros tienen una penalización mayor que los modelos con menos parámetros. La razón intuitiva es que cuanto mayor sea el número de parámetros, mayor será la dispersión del prior respecto del likelihood\n",
    "\n",
    "* Lo malo: calcular la probabilidad marginal es, en general, una tarea difícil porque es una integral de una función altamente variable en un espacio de parámetros de alta dimensión.\n",
    "\n",
    "* Lo feo: la probabilidad marginal depende *sensiblemente* de los valores del prior\n",
    "\n",
    "* Una forma relativamente simple de calcular los factores de Bayes con PyMC3 es mediante el uso del método de inferencia SMC"
   ]
  },
  {
   "cell_type": "code",
   "execution_count": 16,
   "metadata": {
    "slideshow": {
     "slide_type": "slide"
    }
   },
   "outputs": [
    {
     "name": "stderr",
     "output_type": "stream",
     "text": [
      "Sample initial stage: ...\n",
      "Stage:   0 Beta: 1.000 Steps:  25 Acce: 1.000\n",
      "Sample initial stage: ...\n",
      "Stage:   0 Beta: 0.202 Steps:  25 Acce: 1.000\n",
      "Stage:   1 Beta: 0.670 Steps:  25 Acce: 0.699\n",
      "Stage:   2 Beta: 1.000 Steps:   3 Acce: 0.582\n"
     ]
    },
    {
     "data": {
      "text/plain": [
       "12.068843839234598"
      ]
     },
     "execution_count": 16,
     "metadata": {},
     "output_type": "execute_result"
    }
   ],
   "source": [
    "coins = 30 # 300\n",
    "heads = 9 # 90\n",
    "y_d = np.repeat([0, 1], [coins-heads, heads])\n",
    "\n",
    "with pm.Model() as model_BF_0:\n",
    "    theta = pm.Beta('theta', 4, 8)\n",
    "    y = pm.Bernoulli('y', theta, observed=y_d)\n",
    "    trace_BF_0 = pm.sample_smc(2500)\n",
    "\n",
    "with pm.Model() as model_BF_1:\n",
    "    theta = pm.Beta('theta', 8, 4)\n",
    "    y = pm.Bernoulli('y', theta, observed=y_d)\n",
    "    trace_BF_1 = pm.sample_smc(2500)\n",
    "    \n",
    "np.exp(model_BF_0.marginal_log_likelihood - model_BF_1.marginal_log_likelihood)"
   ]
  },
  {
   "cell_type": "markdown",
   "metadata": {
    "slideshow": {
     "slide_type": "slide"
    }
   },
   "source": [
    "## Criterios de información vs Factores de Bayes\n",
    "\n",
    "* El factor Bayes se centra en averiguar cual modelo es mejor (y el posterior es parte del modelo)\n",
    "\n",
    "* WAIC (y LOO) se centran en cual modelo dará las mejores predicciones (el prior se tienen en cuenta indirectamente)"
   ]
  },
  {
   "cell_type": "markdown",
   "metadata": {
    "slideshow": {
     "slide_type": "slide"
    }
   },
   "source": [
    "## Ejercicios\n",
    "\n",
    "1. Explique porqué WAIC es más general que AIC. ¿Bajo que condiciones estos dos criterios son numéricamente similares?\n",
    "\n",
    "1. ¿Cuál es la diferencia entre seleccionar modelos y promediar modelos?\n",
    "\n",
    "1. Al comparar modelos usando criterios de información es necesario usar el mismo conjunto de datos. ¿Por qué? ¿Qué sucede si cambiamos la cantidad de datos?\n",
    "\n",
    "1. ¿Cómo cambia el número efectivo de parámetros (medio por WAIC) a medida que el prior se concentra más?\n",
    "\n",
    "1. ¿Cómo se vincula la respuesta anterior con el concepto de regularización y con el concepto de modelos jerárquicos? ¿Puede un prior reducir el overfitting? ¿Puede un prior favorecer el underfitting?\n",
    "\n",
    "1. Calcule WAIC y BF para los modelos model_BF_0 y model_BF_1. Use (monedas = 30, caras = 9) y luego (monedas = 300, caras = 90). Compare las diferencias en términos de WAIC y BF al aumentar los datos."
   ]
  }
 ],
 "metadata": {
  "celltoolbar": "Slideshow",
  "hide_input": false,
  "kernelspec": {
   "display_name": "Python 3",
   "language": "python",
   "name": "python3"
  },
  "language_info": {
   "codemirror_mode": {
    "name": "ipython",
    "version": 3
   },
   "file_extension": ".py",
   "mimetype": "text/x-python",
   "name": "python",
   "nbconvert_exporter": "python",
   "pygments_lexer": "ipython3",
   "version": "3.7.6"
  }
 },
 "nbformat": 4,
 "nbformat_minor": 2
}
