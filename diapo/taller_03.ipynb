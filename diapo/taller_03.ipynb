{
 "cells": [
  {
   "cell_type": "code",
   "execution_count": 1,
   "metadata": {
    "slideshow": {
     "slide_type": "skip"
    }
   },
   "outputs": [],
   "source": [
    "import numpy as np\n",
    "import matplotlib.pyplot as plt\n",
    "from scipy import stats\n",
    "import pymc3 as pm\n",
    "import arviz as az\n",
    "from IPython.display import IFrame"
   ]
  },
  {
   "cell_type": "code",
   "execution_count": 2,
   "metadata": {
    "slideshow": {
     "slide_type": "skip"
    }
   },
   "outputs": [],
   "source": [
    "az.style.use('arviz-whitegrid')"
   ]
  },
  {
   "cell_type": "code",
   "execution_count": 3,
   "metadata": {
    "slideshow": {
     "slide_type": "skip"
    }
   },
   "outputs": [
    {
     "data": {
      "text/html": [
       "<style>\n",
       "\n",
       ".CodeMirror {\n",
       "    width: 100vw;\n",
       "}\n",
       "\n",
       ".container {\n",
       "    width: 99% !important;\n",
       "}\n",
       "\n",
       ".rendered_html {\n",
       "  font-size:0.8em;\n",
       "}\n",
       ".rendered_html table, .rendered_html th, .rendered_html tr, .rendered_html td {\n",
       "     font-size: 100%;\n",
       "}\n",
       "\n",
       "\n",
       "body {\n",
       "  font-family: Ubuntu;\n",
       "  background: #F0F0F0;\n",
       "  background-color: #F0F0F0;\n",
       "}\n",
       "\n",
       "\n",
       ".reveal h1,\n",
       ".reveal h2,\n",
       ".reveal h3,\n",
       ".reveal h4,\n",
       ".reveal h5,\n",
       ".reveal h6 {\n",
       "  margin: 0 0 20px 0;\n",
       "  color: #2a2eec;\n",
       "  font-family: Ubuntu;\n",
       "  line-height: 0.9em;\n",
       "  letter-spacing: 0.02em;\n",
       "  text-transform: none;\n",
       "  text-shadow: none;\n",
       "}\n",
       "\n",
       ".reveal blockquote {\n",
       "  display: block;\n",
       "  position: relative;\n",
       "  background: #fa7c17;\n",
       "  border-radius: 15px;\n",
       "  box-shadow: 0px 0px 2px rgba(0, 0, 0, 0.2);\n",
       "  font-weight: bold;\n",
       "}\n",
       "\n",
       "</style>"
      ],
      "text/plain": [
       "<IPython.core.display.HTML object>"
      ]
     },
     "metadata": {},
     "output_type": "display_data"
    }
   ],
   "source": [
    "%%HTML\n",
    "<style>\n",
    "\n",
    ".CodeMirror {\n",
    "    width: 100vw;\n",
    "}\n",
    "\n",
    ".container {\n",
    "    width: 99% !important;\n",
    "}\n",
    "\n",
    ".rendered_html {\n",
    "  font-size:0.8em;\n",
    "}\n",
    ".rendered_html table, .rendered_html th, .rendered_html tr, .rendered_html td {\n",
    "     font-size: 100%;\n",
    "}\n",
    "\n",
    "\n",
    "body {\n",
    "  font-family: Ubuntu;\n",
    "  background: #F0F0F0;\n",
    "  background-color: #F0F0F0;\n",
    "}\n",
    "\n",
    "\n",
    ".reveal h1,\n",
    ".reveal h2,\n",
    ".reveal h3,\n",
    ".reveal h4,\n",
    ".reveal h5,\n",
    ".reveal h6 {\n",
    "  margin: 0 0 20px 0;\n",
    "  color: #2a2eec;\n",
    "  font-family: Ubuntu;\n",
    "  line-height: 0.9em;\n",
    "  letter-spacing: 0.02em;\n",
    "  text-transform: none;\n",
    "  text-shadow: none;\n",
    "}\n",
    "\n",
    ".reveal blockquote {\n",
    "  display: block;\n",
    "  position: relative;\n",
    "  background: #fa7c17;\n",
    "  border-radius: 15px;\n",
    "  box-shadow: 0px 0px 2px rgba(0, 0, 0, 0.2);\n",
    "  font-weight: bold;\n",
    "}\n",
    "\n",
    "</style>"
   ]
  },
  {
   "cell_type": "code",
   "execution_count": 4,
   "metadata": {
    "slideshow": {
     "slide_type": "skip"
    }
   },
   "outputs": [],
   "source": [
    "from traitlets.config.manager import BaseJSONConfigManager\n",
    "path = \"/home/osvaldo/anaconda3/etc/jupyter/nbconfig\"\n",
    "cm = BaseJSONConfigManager(config_dir=path)\n",
    "cm.update(\"livereveal\", {\n",
    "              \"theme\": \"serif\",\n",
    "              \"transition\": \"zoom\",\n",
    "              \"start_slideshow_at\": \"selected\",\n",
    "              \"controls\": \"True\",\n",
    "              \"progress\": \"False\",\n",
    "              \"shortcut\": \"False\",});\n"
   ]
  },
  {
   "cell_type": "markdown",
   "metadata": {
    "slideshow": {
     "slide_type": "slide"
    }
   },
   "source": [
    "##### <center><img src=\"img/logo_inst.png\" width=\"700\">\n",
    "<br>\n",
    "<br>\n",
    "<br>\n",
    "<br>\n",
    "<h1 align=\"center\">Exploratory Analysis of Bayesian models</h1> \n",
    "<h2 align=\"center\">How I learned to stop worrying and love Bayesian modeling</h2> \n",
    "\n",
    "\n",
    "\n",
    "<br>\n",
    "<br>\n",
    "<br>\n",
    "<br>\n",
    "<br>"
   ]
  },
  {
   "cell_type": "markdown",
   "metadata": {
    "slideshow": {
     "slide_type": "slide"
    }
   },
   "source": [
    "# ArviZ: Exploratory analysis of Bayesian models\n",
    "\n",
    "<br>\n",
    "<br>\n",
    "<center><img src=\"img/logo_arviz.png\" width=400></center>\n",
    "<br>\n",
    "\n",
    "\n",
    "* Diagnoses of the quality of the inference\n",
    "* Model criticism, including evaluations of both model assumptions and model predictions\n",
    "* <font color = \"gray\"> Comparison of models, including model selection or model averaging </font>\n",
    "* <font color = \"gray\"> Preparation of the results for a particular audience </font>"
   ]
  },
  {
   "cell_type": "markdown",
   "metadata": {
    "slideshow": {
     "slide_type": "slide"
    }
   },
   "source": [
    "## Computing the posterior distribution\n",
    "\n",
    "* There are many ways to compute a posterior\n",
    "    * Conjugacy\n",
    "    * Markov Chain Monte Carlo (MCMC)\n",
    "    * Variational Inference (VI)\n",
    "    * ...\n",
    "\n",
    "\n",
    "* Only MCMC methods (and to less extend VI) are general enough\n",
    "\n",
    "\n",
    "* We will restrict our current discussion to MCMC methods\n"
   ]
  },
  {
   "cell_type": "markdown",
   "metadata": {
    "slideshow": {
     "slide_type": "slide"
    }
   },
   "source": [
    "## Markov Chain Monte Carlo (MCMC)\n",
    "\n",
    "<br>\n",
    "\n",
    "* MCMC methods  an be used to **sample** from probability distributions that are difficult to sample directly\n",
    "\n",
    "\n",
    "* If some mild conditions are satisfied, we got a theoretical guarantee that MCMC methods will _asymptotically_ converge to the correct distribution. \n",
    "\n",
    "\n",
    "* For finite samples we need to diagnose the quality of the samples"
   ]
  },
  {
   "cell_type": "code",
   "execution_count": 5,
   "metadata": {
    "slideshow": {
     "slide_type": "slide"
    }
   },
   "outputs": [
    {
     "data": {
      "text/html": [
       "\n",
       "        <iframe\n",
       "            width=\"1200\"\n",
       "            height=\"600\"\n",
       "            src=\"mcmc-demo-master/app.html#RandomWalkMH,standard\"\n",
       "            frameborder=\"0\"\n",
       "            allowfullscreen\n",
       "        ></iframe>\n",
       "        "
      ],
      "text/plain": [
       "<IPython.lib.display.IFrame at 0x7f14204fd6a0>"
      ]
     },
     "execution_count": 5,
     "metadata": {},
     "output_type": "execute_result"
    }
   ],
   "source": [
    "IFrame(src='mcmc-demo-master/app.html#RandomWalkMH,standard', width=1200, height=600)"
   ]
  },
  {
   "cell_type": "markdown",
   "metadata": {
    "slideshow": {
     "slide_type": "slide"
    }
   },
   "source": [
    "## Trace plots\n",
    "\n",
    "<br>\n",
    "\n",
    "    az.plot_trace(trace)\n",
    "\n",
    "\n",
    "* MCMC samples should not be sensitive to the starting point (ergodicity)\n",
    "    * So if you sample more than one chain (starting from different places) you should get the same result\n",
    "* MCMC samples should have the lowest possible autocorrelation  \n",
    "    * No long regions of monoticity\n",
    "\n",
    "Trace plots can help diagnose:\n",
    "\n",
    "* Multimodal posteriors\n",
    "* Bad intialization\n",
    "* Difficult sampling topologies (such as Neal's funnel)"
   ]
  },
  {
   "cell_type": "markdown",
   "metadata": {
    "slideshow": {
     "slide_type": "slide"
    }
   },
   "source": [
    "## Pathological traces\n",
    "\n",
    "<br>\n",
    "\n",
    "<center><img src=\"img/pathological_traces.png\" width=600></center>"
   ]
  },
  {
   "cell_type": "markdown",
   "metadata": {
    "slideshow": {
     "slide_type": "slide"
    }
   },
   "source": [
    "## How to fix it\n",
    "\n",
    "* More samples\n",
    "* Burn-in\n",
    "* Change the sampler!\n",
    "* Reparametrize the model\n",
    "* Read PyMC3 warning messages and suggestions!"
   ]
  },
  {
   "cell_type": "markdown",
   "metadata": {
    "slideshow": {
     "slide_type": "slide"
    }
   },
   "source": [
    "## Autocorrelation plot\n",
    "\n",
    "<br>\n",
    "\n",
    "    az.plot_autocorr(trace)\n",
    "\n",
    "* \n",
    "\n",
    "*\n",
    "\n",
    "* \n",
    "\n",
    "An ideal sample will lack autocorrelation, that is a value at one point should be independent of the values at other points. In practice, samples generated from MCMC methods will be autocorrelated, especially Metropolis-Hastings and to a less extend NUTS. Arviz comes with a convenient function to plot the autocorrelation:"
   ]
  },
  {
   "cell_type": "code",
   "execution_count": 6,
   "metadata": {
    "slideshow": {
     "slide_type": "slide"
    }
   },
   "outputs": [
    {
     "data": {
      "image/png": "[encoded data removed]",
      "text/plain": [
       "<Figure size 1656x552 with 2 Axes>"
      ]
     },
     "metadata": {},
     "output_type": "display_data"
    }
   ],
   "source": [
    "bad_chains = np.linspace(0, 1, 1000).reshape(2, -1)\n",
    "az.plot_autocorr(bad_chains);"
   ]
  },
  {
   "cell_type": "code",
   "execution_count": 7,
   "metadata": {
    "slideshow": {
     "slide_type": "slide"
    }
   },
   "outputs": [
    {
     "data": {
      "image/png": "[encoded data removed]",
      "text/plain": [
       "<Figure size 1656x552 with 2 Axes>"
      ]
     },
     "metadata": {},
     "output_type": "display_data"
    }
   ],
   "source": [
    "good_chains = stats.uniform.rvs(0, 1,size=(2,500))\n",
    "az.plot_autocorr(good_chains);"
   ]
  },
  {
   "cell_type": "markdown",
   "metadata": {
    "slideshow": {
     "slide_type": "slide"
    }
   },
   "source": [
    "## How to fix it\n",
    "\n",
    "* More samples (this becomes less and less practicall as the autocorrelation increases)\n",
    "* Reparametrize the model\n",
    "* Read PyMC3 warning messages and suggestions!"
   ]
  },
  {
   "cell_type": "markdown",
   "metadata": {},
   "source": [
    "## Effective Sample Size (ess)\n",
    "\n",
    "<br>\n",
    "\n",
    "    az.ess(trace)\n",
    "\n",
    "* In the sample large enough?\n",
    "\n",
    "$\\hat{N}_{eff} = \\frac{MN}{\\hat{\\tau}}$\n",
    "\n",
    "$\\hat{\\tau} = -1 + 2 \\sum_{t'=0}^K \\hat{P}_{t'}$\n",
    "\n",
    "$M$ is the number of chains, $N$ the number of draws, $\\hat{\\rho}_t$ is the estimated autocorrelation at lag $t$ and $K$ is the last integer for\n",
    "which $\\hat{P}_{K} = \\hat{\\rho}_{2K} + \\hat{\\rho}_{2K+1}$ is still positive.\n",
    "\n",
    "A sample with autocorrelation has less information than a sample of the same size without autocorrelation. We can use the autocorrelation to estimate which will be the size of a given sample with the equivalent information but without autocorrelation and this is call the effective sample size. The more autocorrelated a parameter is, the larger the number of samples we will need to obtain a given precision, that is autocorrelation has the detrimental effect of effective sample size. \n",
    "\n",
    "the ESS of a quantity of interest captures how many independent draws contain the same\n",
    "amount of information as the dependent sample obtained by the MCMC algorithm.\n",
    "\n",
    "* We recommend requiring that the rank-normalized ESS is greater than 400\n",
    "\n",
    "\n",
    "We can compute the effective sample size by calling `az.effective_n`"
   ]
  },
  {
   "cell_type": "code",
   "execution_count": 8,
   "metadata": {},
   "outputs": [
    {
     "data": {
      "text/plain": [
       "(2.284600376742084, 718.4476717307914)"
      ]
     },
     "execution_count": 8,
     "metadata": {},
     "output_type": "execute_result"
    }
   ],
   "source": [
    "az.ess(bad_chains), az.ess(good_chains)"
   ]
  },
  {
   "cell_type": "code",
   "execution_count": 9,
   "metadata": {},
   "outputs": [
    {
     "data": {
      "text/html": [
       "<div>\n",
       "<style scoped>\n",
       "    .dataframe tbody tr th:only-of-type {\n",
       "        vertical-align: middle;\n",
       "    }\n",
       "\n",
       "    .dataframe tbody tr th {\n",
       "        vertical-align: top;\n",
       "    }\n",
       "\n",
       "    .dataframe thead th {\n",
       "        text-align: right;\n",
       "    }\n",
       "</style>\n",
       "<table border=\"1\" class=\"dataframe\">\n",
       "  <thead>\n",
       "    <tr style=\"text-align: right;\">\n",
       "      <th></th>\n",
       "      <th>mean</th>\n",
       "      <th>sd</th>\n",
       "      <th>mcse_mean</th>\n",
       "      <th>mcse_sd</th>\n",
       "      <th>hpd_3%</th>\n",
       "      <th>hpd_97%</th>\n",
       "      <th>ess_mean</th>\n",
       "      <th>ess_sd</th>\n",
       "      <th>ess_bulk</th>\n",
       "      <th>ess_tail</th>\n",
       "      <th>r_hat</th>\n",
       "    </tr>\n",
       "  </thead>\n",
       "  <tbody>\n",
       "    <tr>\n",
       "      <th>x</th>\n",
       "      <td>0.491</td>\n",
       "      <td>0.288</td>\n",
       "      <td>0.01</td>\n",
       "      <td>0.007</td>\n",
       "      <td>0.019</td>\n",
       "      <td>0.944</td>\n",
       "      <td>798.0</td>\n",
       "      <td>753.0</td>\n",
       "      <td>718.0</td>\n",
       "      <td>751.0</td>\n",
       "      <td>1.01</td>\n",
       "    </tr>\n",
       "  </tbody>\n",
       "</table>\n",
       "</div>"
      ],
      "text/plain": [
       "    mean     sd  mcse_mean  mcse_sd  hpd_3%  hpd_97%  ess_mean  ess_sd  \\\n",
       "x  0.491  0.288       0.01    0.007   0.019    0.944     798.0   753.0   \n",
       "\n",
       "   ess_bulk  ess_tail  r_hat  \n",
       "x     718.0     751.0   1.01  "
      ]
     },
     "execution_count": 9,
     "metadata": {},
     "output_type": "execute_result"
    }
   ],
   "source": [
    "az.summary(good_chains)"
   ]
  },
  {
   "cell_type": "markdown",
   "metadata": {
    "slideshow": {
     "slide_type": "slide"
    }
   },
   "source": [
    "## $\\hat R$ (aka R hat)\n",
    "\n",
    "* Did the chains mix well?\n",
    "\n",
    "* Compares the _between chain_ variance with the _in chain_ variance .\n",
    "\n",
    "* If all the chains have converged, the variance should be similar across all chains, and the pooled sample of all chains.\n",
    "\n",
    "* Ideally it should be 1, numbers lower than 1.05 are generally considered OK. \n",
    "\n",
    "* It can be interpreted as the overestimation of variance due to MCMC finite sampling. If you continue sampling infinetelly you should get a reduction of the variance of your estimation by a $\\hat R$ factor.\n"
   ]
  },
  {
   "cell_type": "markdown",
   "metadata": {},
   "source": [
    "# mcse error \n",
    "\n",
    "One of the quantities returned by summary is the mc_error. This is an estimation of the error introduced by the sampling method. The estimation takes into account that the samples are not truly independent of each other. If the standard error of the means X of n blocks, each block is just a portion of the trace\n",
    "\n",
    "This error should be below the precision we want in our results"
   ]
  },
  {
   "cell_type": "markdown",
   "metadata": {
    "slideshow": {
     "slide_type": "slide"
    }
   },
   "source": [
    "## Rank plot\n",
    "\n",
    "<br>\n",
    "    az.plot_rank()\n",
    "\n",
    "\n",
    "[Aki Vehtari et al](https://arxiv.org/abs/1903.08008)"
   ]
  },
  {
   "cell_type": "code",
   "execution_count": 10,
   "metadata": {},
   "outputs": [
    {
     "data": {
      "image/png": "[encoded data removed]",
      "text/plain": [
       "<Figure size 720x480 with 1 Axes>"
      ]
     },
     "metadata": {},
     "output_type": "display_data"
    }
   ],
   "source": [
    "az.plot_rank(good_chains);"
   ]
  },
  {
   "cell_type": "code",
   "execution_count": 11,
   "metadata": {},
   "outputs": [
    {
     "data": {
      "image/png": "[encoded data removed]",
      "text/plain": [
       "<Figure size 720x480 with 1 Axes>"
      ]
     },
     "metadata": {},
     "output_type": "display_data"
    }
   ],
   "source": [
    "az.plot_rank(bad_chains);"
   ]
  },
  {
   "cell_type": "code",
   "execution_count": 53,
   "metadata": {},
   "outputs": [
    {
     "data": {
      "image/png": "[encoded data removed]",
      "text/plain": [
       "<Figure size 720x480 with 1 Axes>"
      ]
     },
     "metadata": {},
     "output_type": "display_data"
    }
   ],
   "source": [
    "dada = np.random.normal(0, 1, (2, 1000))\n",
    "dada[:,0:100] = 0\n",
    "az.plot_rank(dada);"
   ]
  },
  {
   "cell_type": "markdown",
   "metadata": {
    "slideshow": {
     "slide_type": "slide"
    }
   },
   "source": [
    "# Hands-on\n",
    "\n",
    "Run the following models and diagnose the samples"
   ]
  },
  {
   "cell_type": "code",
   "execution_count": 55,
   "metadata": {
    "slideshow": {
     "slide_type": "slide"
    }
   },
   "outputs": [
    {
     "name": "stderr",
     "output_type": "stream",
     "text": [
      "Auto-assigning NUTS sampler...\n",
      "Initializing NUTS using jitter+adapt_diag...\n",
      "Multiprocess sampling (2 chains in 2 jobs)\n",
      "NUTS: [μ]\n",
      "Sampling 2 chains: 100%|██████████| 3000/3000 [00:01<00:00, 2538.70draws/s]\n",
      "There were 3 divergences after tuning. Increase `target_accept` or reparameterize.\n",
      "Auto-assigning NUTS sampler...\n",
      "Initializing NUTS using jitter+adapt_diag...\n",
      "Multiprocess sampling (2 chains in 2 jobs)\n",
      "NUTS: [μ]\n",
      "Sampling 2 chains: 100%|██████████| 3000/3000 [00:48<00:00, 62.08draws/s] \n",
      "There were 93 divergences after tuning. Increase `target_accept` or reparameterize.\n",
      "The acceptance probability does not match the target. It is 0.5024960177209282, but should be close to 0.8. Try to increase the number of tuning steps.\n",
      "There were 20 divergences after tuning. Increase `target_accept` or reparameterize.\n",
      "The chain reached the maximum tree depth. Increase max_treedepth, increase target_accept or reparameterize.\n",
      "The estimated number of effective samples is smaller than 200 for some parameters.\n"
     ]
    }
   ],
   "source": [
    "with pm.Model() as good_model:\n",
    "    μ = pm.Normal('μ', 0, 1000, shape=2)\n",
    "    y = pm.Poisson('y', np.exp(μ), observed=[1, 10])\n",
    "    good_samples = pm.sample(1000)\n",
    "    \n",
    "with pm.Model() as bad_model:\n",
    "    # Priors\n",
    "    μ = pm.Normal('μ', 0, 1000, shape=2)\n",
    "    #likelihood\n",
    "    y = pm.Poisson('y', np.exp(μ[0] + μ[1]), observed=[1])\n",
    "    bad_samples = pm.sample(1000)"
   ]
  },
  {
   "cell_type": "markdown",
   "metadata": {},
   "source": [
    "## Diagnosing gradient-based algorithms\n",
    "\n",
    "lalaa"
   ]
  },
  {
   "cell_type": "code",
   "execution_count": null,
   "metadata": {
    "slideshow": {
     "slide_type": "slide"
    }
   },
   "outputs": [],
   "source": [
    "with pm.Model() as centered_model:\n",
    "    a = pm.HalfNormal('a', 10)\n",
    "    b = pm.Normal('b', 0, a, shape=10)\n",
    "    trace_cm = pm.sample(2000, random_seed=7)\n",
    "\n",
    "with pm.Model() as non_centered_model:\n",
    "    a = pm.HalfNormal('a', 10)\n",
    "\n",
    "    bof = pm.Normal('b_offset', mu=0, sd=1, shape=10)\n",
    "    b = pm.Deterministic('b', 0 + bof * a)\n",
    "    trace_ncm = pm.sample(2000, random_seed=7)"
   ]
  },
  {
   "cell_type": "markdown",
   "metadata": {
    "slideshow": {
     "slide_type": "slide"
    }
   },
   "source": [
    "## Energy transition vs marginal energy\n",
    "\n",
    "\n",
    "\n",
    "* If the energy transition distribution is similar to the marginal energy distribution then we will generate nearly-independent samples from the marginal energy distribution at every transition\n",
    "\n",
    "* We can think of a Hamiltonian MonteCarlo as a two step process\n",
    "    * A deterministic sampling (following the Hamiltonian)\n",
    "    * A random walk over the momentum space\n",
    "\n",
    "* deterministic exploration of individual\n",
    "level sets and a stochastic exploration between the level sets themselves"
   ]
  },
  {
   "cell_type": "code",
   "execution_count": null,
   "metadata": {
    "slideshow": {
     "slide_type": "slide"
    }
   },
   "outputs": [],
   "source": [
    "_, ax = plt.subplots(1, 2, sharey=True, sharex=True, figsize=(12, 4), constrained_layout=True)\n",
    "\n",
    "for idx, tr in enumerate([trace_cm, trace_ncm]):\n",
    "    az.plot_energy(tr, ax=ax[idx])\n",
    "    ax[idx].set_title(['centered', 'non-centered'][idx])"
   ]
  },
  {
   "cell_type": "markdown",
   "metadata": {
    "slideshow": {
     "slide_type": "slide"
    }
   },
   "source": [
    "### Divergences\n",
    "\n",
    "\n",
    "* One benefit of gradient based samplers is that they fail with style\n",
    "\n",
    "* When the exact trajectories lie regions of high curvature, the numerical trajectories can diverge\n",
    "\n",
    "* divergent numerical trajectories are extremely sensitive identifiers of _pathological neighborhoods_ and hence provide a powerful and immediate diagnostic\n",
    "\n",
    "* Divergences can be identified\n",
    "\n",
    "\n",
    "[A Conceptual Introduction to Hamiltonian Monte Carlo](https://arxiv.org/abs/1701.02434)"
   ]
  },
  {
   "cell_type": "code",
   "execution_count": null,
   "metadata": {},
   "outputs": [],
   "source": [
    "_, ax = plt.subplots(1, 2, sharey=True, sharex=True, figsize=(10, 5), constrained_layout=True)\n",
    "\n",
    "for idx, tr in enumerate([trace_cm, trace_ncm]):\n",
    "    az.plot_pair(tr, var_names=['b', 'a'], coords={'b_dim_0':[0]}, kind='scatter',\n",
    "                 divergences=True, contour=False, divergences_kwargs={'color':'C1'},\n",
    "                 ax=ax[idx])\n",
    "    ax[idx].set_title(['centered', 'non-centered'][idx])"
   ]
  },
  {
   "cell_type": "code",
   "execution_count": null,
   "metadata": {},
   "outputs": [],
   "source": [
    "_, ax = plt.subplots(1, 2, sharey=True, sharex=True, figsize=(10, 5), constrained_layout=True)\n",
    "\n",
    "for idx, tr in enumerate([trace_cm, trace_ncm]):\n",
    "    az.plot_parallel(tr, ax=ax[idx])\n",
    "    ax[idx].set_title(['centered', 'non-centered'][idx]);"
   ]
  },
  {
   "cell_type": "code",
   "execution_count": null,
   "metadata": {},
   "outputs": [],
   "source": [
    "az.plot_parallel(trace_cm)"
   ]
  },
  {
   "cell_type": "code",
   "execution_count": null,
   "metadata": {},
   "outputs": [],
   "source": [
    "az.plot_parallel(trace_ncm)\n",
    "pm.sample"
   ]
  },
  {
   "cell_type": "markdown",
   "metadata": {},
   "source": [
    "## How to fix divergences\n",
    "\n",
    "\n",
    "* When the pathologies are sufficiently mild, the divergences can be eliminated by increasing the desired acceptance rate (`target_accept`) this is done internally \n",
    "by using a smaller step size \n",
    "\n",
    "* When the pathologies are too severe other measures are needed, including: \n",
    "    * Using stronger priors\n",
    "    * Reparametrization of the model"
   ]
  },
  {
   "cell_type": "markdown",
   "metadata": {},
   "source": [
    "## Simulation-Based Calibration\n",
    "\n",
    "\n",
    "*\n",
    "\n",
    "*\n",
    "\n",
    "* "
   ]
  },
  {
   "cell_type": "markdown",
   "metadata": {
    "slideshow": {
     "slide_type": "slide"
    }
   },
   "source": [
    "# A Bayesian workflow\n",
    "\n",
    "<center><img src=\"img/Bayesian_workflow.png\" width=900></center>\n",
    "\n",
    "data can be _real_ data or simulated data from the prior predictive distribution (in that case we check we are able to recover the known parameters).\n",
    "    \n",
    "Adapted from [Eric Novik](https://twitter.com/ericnovik) that is adapted from the [Stan team](https://mc-stan.org/), who in turn have seen further by standing on the shoulders of Giants."
   ]
  }
 ],
 "metadata": {
  "celltoolbar": "Slideshow",
  "hide_input": false,
  "kernelspec": {
   "display_name": "Python 3",
   "language": "python",
   "name": "python3"
  },
  "language_info": {
   "codemirror_mode": {
    "name": "ipython",
    "version": 3
   },
   "file_extension": ".py",
   "mimetype": "text/x-python",
   "name": "python",
   "nbconvert_exporter": "python",
   "pygments_lexer": "ipython3",
   "version": "3.7.1"
  }
 },
 "nbformat": 4,
 "nbformat_minor": 2
}
