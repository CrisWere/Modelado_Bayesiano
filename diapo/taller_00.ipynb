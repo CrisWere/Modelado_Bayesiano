{
 "cells": [
  {
   "cell_type": "code",
   "execution_count": 1,
   "metadata": {
    "slideshow": {
     "slide_type": "skip"
    }
   },
   "outputs": [],
   "source": [
    "import numpy as np\n",
    "from scipy import stats, special\n",
    "import matplotlib.pyplot as plt\n",
    "import arviz as az\n",
    "\n",
    "from ipywidgets import interact\n",
    "import ipywidgets as ipyw"
   ]
  },
  {
   "cell_type": "code",
   "execution_count": 2,
   "metadata": {
    "slideshow": {
     "slide_type": "skip"
    }
   },
   "outputs": [],
   "source": [
    "az.style.use('arviz-darkgrid')"
   ]
  },
  {
   "cell_type": "code",
   "execution_count": 3,
   "metadata": {
    "slideshow": {
     "slide_type": "skip"
    }
   },
   "outputs": [
    {
     "data": {
      "text/html": [
       "<style>\n",
       "\n",
       ".CodeMirror {\n",
       "    width: 100vw;\n",
       "}\n",
       "\n",
       ".container {\n",
       "    width: 99% !important;\n",
       "}\n",
       "\n",
       ".rendered_html {\n",
       "  font-size:0.8em;\n",
       "}\n",
       ".rendered_html table, .rendered_html th, .rendered_html tr, .rendered_html td {\n",
       "     font-size: 100%;\n",
       "}\n",
       "\n",
       "\n",
       "body {\n",
       "  font-family: Ubuntu;\n",
       "  background: #F0F0F0;\n",
       "  background-color: #F0F0F0;\n",
       "}\n",
       "\n",
       "\n",
       ".reveal h1,\n",
       ".reveal h2,\n",
       ".reveal h3,\n",
       ".reveal h4,\n",
       ".reveal h5,\n",
       ".reveal h6 {\n",
       "  margin: 0 0 20px 0;\n",
       "  color: #2a2eec;\n",
       "  font-family: Ubuntu;\n",
       "  line-height: 0.9em;\n",
       "  letter-spacing: 0.02em;\n",
       "  text-transform: none;\n",
       "  text-shadow: none;\n",
       "}\n",
       "\n",
       ".reveal blockquote {\n",
       "  display: block;\n",
       "  position: relative;\n",
       "  background: #fa7c17;\n",
       "  border-radius: 15px;\n",
       "  box-shadow: 0px 0px 2px rgba(0, 0, 0, 0.2);\n",
       "  font-weight: bold;\n",
       "}\n",
       "\n",
       "</style>"
      ],
      "text/plain": [
       "<IPython.core.display.HTML object>"
      ]
     },
     "metadata": {},
     "output_type": "display_data"
    }
   ],
   "source": [
    "%%HTML\n",
    "<style>\n",
    "\n",
    ".CodeMirror {\n",
    "    width: 100vw;\n",
    "}\n",
    "\n",
    ".container {\n",
    "    width: 99% !important;\n",
    "}\n",
    "\n",
    ".rendered_html {\n",
    "  font-size:0.8em;\n",
    "}\n",
    ".rendered_html table, .rendered_html th, .rendered_html tr, .rendered_html td {\n",
    "     font-size: 100%;\n",
    "}\n",
    "\n",
    "\n",
    "body {\n",
    "  font-family: Ubuntu;\n",
    "  background: #F0F0F0;\n",
    "  background-color: #F0F0F0;\n",
    "}\n",
    "\n",
    "\n",
    ".reveal h1,\n",
    ".reveal h2,\n",
    ".reveal h3,\n",
    ".reveal h4,\n",
    ".reveal h5,\n",
    ".reveal h6 {\n",
    "  margin: 0 0 20px 0;\n",
    "  color: #2a2eec;\n",
    "  font-family: Ubuntu;\n",
    "  line-height: 0.9em;\n",
    "  letter-spacing: 0.02em;\n",
    "  text-transform: none;\n",
    "  text-shadow: none;\n",
    "}\n",
    "\n",
    ".reveal blockquote {\n",
    "  display: block;\n",
    "  position: relative;\n",
    "  background: #fa7c17;\n",
    "  border-radius: 15px;\n",
    "  box-shadow: 0px 0px 2px rgba(0, 0, 0, 0.2);\n",
    "  font-weight: bold;\n",
    "}\n",
    "\n",
    "</style>"
   ]
  },
  {
   "cell_type": "code",
   "execution_count": 4,
   "metadata": {
    "slideshow": {
     "slide_type": "skip"
    }
   },
   "outputs": [],
   "source": [
    "from traitlets.config.manager import BaseJSONConfigManager\n",
    "path = \"/home/osvaldo/anaconda3/etc/jupyter/nbconfig\"\n",
    "cm = BaseJSONConfigManager(config_dir=path)\n",
    "cm.update(\"livereveal\", {\n",
    "              \"theme\": \"serif\",\n",
    "              \"transition\": \"zoom\",\n",
    "              \"start_slideshow_at\": \"selected\",\n",
    "              \"controls\": \"False\",\n",
    "              \"progress\": \"False\",\n",
    "              \"shortcut\": \"False\",});\n"
   ]
  },
  {
   "cell_type": "markdown",
   "metadata": {
    "slideshow": {
     "slide_type": "slide"
    }
   },
   "source": [
    "<center><img src=\"img/logo_inst.png\" width=\"750\">\n",
    "<br>\n",
    "<br>\n",
    "<br>\n",
    "<br>\n",
    "<h1 align=\"center\">Introduction to Bayesian Inference</h1>\n",
    "\n",
    "\n",
    "\n",
    "<br>\n",
    "<br>\n",
    "<br>\n",
    "<br>\n",
    "<br>"
   ]
  },
  {
   "cell_type": "markdown",
   "metadata": {
    "slideshow": {
     "slide_type": "slide"
    }
   },
   "source": [
    "## Aims\n",
    "\n",
    "* Gain a very general understanding of probability concepts\n",
    "* Understand Bayes' Theorem\n",
    "* Understand posterior distributions"
   ]
  },
  {
   "cell_type": "markdown",
   "metadata": {
    "slideshow": {
     "slide_type": "slide"
    }
   },
   "source": [
    "## Bayesian modeling\n",
    "\n",
    "<br>\n",
    "\n",
    "* Statistics is a form of modeling\n",
    "\n",
    "\n",
    "* A statistical model generates data\n",
    "\n",
    "\n",
    "* A Bayesian model meets two requirements:\n",
    "    1. Unknown quantities (parameters) are modeled using **probability distributions**\n",
    "    2. The known quantities (data) are combined with the **prior distribution of parameters** using **Bayes theorem**"
   ]
  },
  {
   "cell_type": "markdown",
   "metadata": {
    "slideshow": {
     "slide_type": "slide"
    }
   },
   "source": [
    "## Probabilities\n",
    "\n",
    "* We define **sample space** $\\mathcal{X}$ as the set containing all the possible outcomes from an experiment.\n",
    "    * For a 6-sided die we have: $\\mathcal{X} = \\{1, 2, 3, 4, 5, 6\\}$\n",
    "\n",
    "\n",
    "* An event $A$ is a subset of $\\mathcal{X}$.\n",
    "    * Maybe we have $A = \\{2\\}$\n",
    "    * Or $A = \\{1, 3, 5\\}$ \n",
    "\n",
    "\n",
    "* An event $A$ has occurred if the outcome of an experiment is $A$.\n",
    "\n",
    "\n",
    "* To indicate the **probability** of the event $A = \\{2\\}$ we can write $P(A=2)$ or $P(A)$ for short. "
   ]
  },
  {
   "cell_type": "markdown",
   "metadata": {
    "slideshow": {
     "slide_type": "slide"
    }
   },
   "source": [
    "## Probabilities (cont)\n",
    "\n",
    "<br>\n",
    "\n",
    "\n",
    "* $P(A)$ is value in the interval [0, 1]\n",
    "    * $0 \\implies A$ is impossible\n",
    "    * $1 \\implies A$ is certain\n",
    "\n",
    "\n",
    "* Probability distributions allocate probabilities to a given set of values\n",
    "\n",
    "\n",
    "* Probability distributions are generally divided into two classes:\n",
    "    * discrete probability distributions\n",
    "    * continuous probability distributions"
   ]
  },
  {
   "cell_type": "code",
   "execution_count": 5,
   "metadata": {
    "slideshow": {
     "slide_type": "slide"
    }
   },
   "outputs": [
    {
     "data": {
      "application/vnd.jupyter.widget-view+json": {
       "model_id": "3524181988e04d558a2c04029e4f1673",
       "version_major": 2,
       "version_minor": 0
      },
      "text/plain": [
       "interactive(children=(FloatSlider(value=1.0, description='α', max=10.0, min=0.5, step=0.5), FloatSlider(value=…"
      ]
     },
     "metadata": {},
     "output_type": "display_data"
    }
   ],
   "source": [
    "def dist_dice(α, β):  # plot the pmf of a discrete distribution representing a die\n",
    "    n = 5\n",
    "    x = np.arange(0, 6)\n",
    "    dist_pmf = special.binom(n, x) * (special.beta(x+α, n-x+β) / special.beta(α, β))\n",
    "    plt.vlines(x, 0, dist_pmf, colors='C0', lw=4);\n",
    "    plt.ylim(0, 1)\n",
    "    plt.xlabel('x')\n",
    "    plt.ylabel('pmf(x)')\n",
    "    plt.xticks(x, x+1)\n",
    "\n",
    "\n",
    "interact(dist_dice,\n",
    "         α=ipyw.FloatSlider(min=0.5, max=10, step=0.5, value=1),\n",
    "         β=ipyw.FloatSlider(min=0.5, max=10, step=0.5, value=1));"
   ]
  },
  {
   "cell_type": "code",
   "execution_count": 6,
   "metadata": {
    "slideshow": {
     "slide_type": "slide"
    }
   },
   "outputs": [
    {
     "data": {
      "application/vnd.jupyter.widget-view+json": {
       "model_id": "e3f2a788dce24eae99f96fe9c649ee38",
       "version_major": 2,
       "version_minor": 0
      },
      "text/plain": [
       "interactive(children=(FloatSlider(value=1.0, description='α', max=10.0, min=0.5, step=0.5), FloatSlider(value=…"
      ]
     },
     "metadata": {},
     "output_type": "display_data"
    }
   ],
   "source": [
    "def beta_scaled(α, β):\n",
    "    x = np.linspace(0, 1, 130)\n",
    "    beta = stats.beta(α, β)\n",
    "    plt.plot(x*6, beta.pdf(x)/6)\n",
    "    plt.yticks([])\n",
    "    plt.ylim(0, 1)\n",
    "    plt.xlabel('x')\n",
    "    plt.ylabel('pdf(x)')\n",
    "\n",
    "interact(beta_scaled,\n",
    "         α=ipyw.FloatSlider(min=0.5, max=10, step=0.5, value=1),\n",
    "         β=ipyw.FloatSlider(min=0.5, max=10, step=0.5, value=1));"
   ]
  },
  {
   "cell_type": "markdown",
   "metadata": {
    "slideshow": {
     "slide_type": "slide"
    }
   },
   "source": [
    "## Recap\n",
    "\n",
    "* Probabilities are numbers in the interval [0, 1]\n",
    "* For discrete distributions the _sum of all the bars_ is 1\n",
    "* For continuous distributions the _total area under the curve_ is 1\n",
    "* Probability distributions allocate probabilities to a given set of values"
   ]
  },
  {
   "cell_type": "markdown",
   "metadata": {
    "slideshow": {
     "slide_type": "slide"
    }
   },
   "source": [
    "## Probability, circles and the platonic world\n",
    "\n",
    "<br>\n",
    "\n",
    "* Probability distributions have precise mathematical formulas, similar to how a circle have a precise mathematical definition.\n",
    "    * _A circle is the set of all points in a plane that are equidistant from a given point, the center_\n",
    "\n",
    "\n",
    "* Probability distributions come into families, each member differs from the rest only by the value of it's parameters.\n",
    "   * There is not a single circle, but the **family of circles** where each member differs from the rest only by the value of the parameter `radius`.\n",
    "\n",
    "\n",
    "* Neither the probability distributions, nor the circles are in any way random objects\n",
    "\n",
    "* The randomness comes from the experiments"
   ]
  },
  {
   "cell_type": "code",
   "execution_count": 7,
   "metadata": {
    "slideshow": {
     "slide_type": "slide"
    }
   },
   "outputs": [
    {
     "data": {
      "text/plain": [
       "2"
      ]
     },
     "execution_count": 7,
     "metadata": {},
     "output_type": "execute_result"
    }
   ],
   "source": [
    "def die(p=None):  # this is a model of a die\n",
    "    sample_space = [1, 2, 3, 4, 5, 6]    \n",
    "    return np.random.choice(sample_space, p=p)\n",
    "\n",
    "die()  # this is a simulated outcome of a die roll"
   ]
  },
  {
   "cell_type": "code",
   "execution_count": 8,
   "metadata": {
    "slideshow": {
     "slide_type": "slide"
    }
   },
   "outputs": [
    {
     "name": "stdout",
     "output_type": "stream",
     "text": [
      "1: 0.2\n",
      "2: 0.5\n",
      "3: 0.3\n",
      "4: 0\n",
      "5: 0\n",
      "6: 0\n"
     ]
    }
   ],
   "source": [
    "def experiment(N=10000):\n",
    "    #sample = [die() for i in range(N)]\n",
    "    sample = [die(p=[0.2, 0.5, 0.3, 0, 0, 0]) for i in range(N)]\n",
    "\n",
    "    for i in range(1, 7):\n",
    "        print(f'{i}: {sample.count(i)/N:.2g}')\n",
    "        \n",
    "experiment()"
   ]
  },
  {
   "cell_type": "markdown",
   "metadata": {
    "slideshow": {
     "slide_type": "slide"
    }
   },
   "source": [
    "## Conditional Probability and joint probability\n",
    "\n",
    "<br>\n",
    "Given two events $A$ and $B$ if $P(B) > 0$, the probability of $A$ given $B$ is defined as:\n",
    "\n",
    "$$\n",
    "P(A \\mid B) \\triangleq \\frac{P(A, B)}{P(B)}\n",
    "$$\n",
    "\n",
    "* $P(A, B)$ is the joint probability, that is the probability that both the event $A$ and $B$ occurs, also it is usually written as $P(A \\cap B)$"
   ]
  },
  {
   "cell_type": "markdown",
   "metadata": {
    "slideshow": {
     "slide_type": "slide"
    }
   },
   "source": [
    "<center>\n",
    "<img src='img/cond.png' width=700 >\n",
    "</center>\n",
    "<br>\n",
    "\n",
    "* A conditional probability can be understood as redefining the sample space\n",
    "\n",
    "\n",
    "* Conditioning is the _soul_ of statistics\n",
    "\n",
    "\n",
    "* All probabilities are conditional; whether or not it's written explicitly, there is always background knowledge (or assumptions) built into every probability\n",
    "\n",
    "<br>\n",
    "<br>\n",
    "\n",
    "[Introduction to Probability](https://www.crcpress.com/Introduction-to-Probability/Blitzstein-Hwang/p/book/9781466575578) de Joseph K. Blitzstein & Jessica Hwang"
   ]
  },
  {
   "cell_type": "markdown",
   "metadata": {
    "slideshow": {
     "slide_type": "slide"
    }
   },
   "source": [
    "##  Relationship between joint, conditional and marginal probability\n",
    "\n",
    "<br>\n",
    "<center>\n",
    "<img src=\"img/probabilidades.png\" width=500>\n",
    "</center>\n",
    "\n",
    "* Joint probability $p(x, y)$\n",
    "* Marginal probability $p(x)$ or $p(y)$ \n",
    "* Conditional probability $p(x \\mid y)$"
   ]
  },
  {
   "cell_type": "code",
   "execution_count": 9,
   "metadata": {
    "slideshow": {
     "slide_type": "slide"
    }
   },
   "outputs": [
    {
     "data": {
      "image/png": "[encoded data removed]",
      "text/plain": [
       "<Figure size 720x480 with 1 Axes>"
      ]
     },
     "metadata": {},
     "output_type": "display_data"
    }
   ],
   "source": [
    "distri = stats.norm(loc=0, scale=1) # plot the pdf of a continuous distribution and samples from that distribution\n",
    "x = np.linspace(-4, 4, 200)\n",
    "x_rvs = distri.rvs(100)\n",
    "x_pdf = distri.pdf(x)\n",
    "mean, variance = distri.stats(moments='mv')\n",
    "plt.plot (x, x_pdf, lw=3,\n",
    "          label=f'μ = {mean:3.2f}\\nσ = {variance**0.5:3.2f}')\n",
    "\n",
    "plt.hist(x_rvs, bins='auto', density=True, label=f'$\\\\bar x$ = {x_rvs.mean():3.2f}\\n s = {x_rvs.std():3.2f}', alpha=0.75)\n",
    "plt.plot(x_rvs, np.zeros_like(x_rvs), 'k|')\n",
    "\n",
    "plt.xlabel('x')\n",
    "plt.ylabel('pdf(x)')\n",
    "plt.legend();"
   ]
  },
  {
   "cell_type": "markdown",
   "metadata": {
    "slideshow": {
     "slide_type": "slide"
    }
   },
   "source": [
    "## Bayesian statistics\n",
    "\n",
    "<br>\n",
    "\n",
    "* Probability distributions allocate probabilities (credibilities) to a given set of values\n",
    "\n",
    "\n",
    "* Bayesian statistics is reallocation of probability (credibility) across possibilities"
   ]
  },
  {
   "cell_type": "markdown",
   "metadata": {
    "slideshow": {
     "slide_type": "slide"
    }
   },
   "source": [
    "## Bayes' Theorem\n",
    "\n",
    "<br>\n",
    "\n",
    "$$\\underbrace{p(\\theta \\mid y)}_{posterior} = \\frac{\\overbrace{p(y \\mid \\theta)}^{\\text{likelihood}} \\overbrace{p(\\theta)}^{prior}}{\\underbrace{\\color{red}{p(y)}}_{\\text{marginal likelihood}}}$$\n",
    "<br>\n",
    "\n",
    "* $\\theta$ represents the parameters in our model (what we want/need to learn)\n",
    "* $y$ represents the data\n",
    "\n",
    "\n",
    "* The central object for Bayesian statistics is the posterior distribution.\n",
    "\n",
    "\n",
    "* $\\color{red}{p(y) = \\int_{\\theta} p(y \\mid \\theta)p(\\theta) d(\\theta)}$ Generally no analytical solution or too costly --> Numerical methods to the rescue!"
   ]
  },
  {
   "cell_type": "markdown",
   "metadata": {
    "nbpresent": {
     "id": "22d50ce8-b4cd-44d3-955f-f798cc43b6cb"
    },
    "slideshow": {
     "slide_type": "slide"
    }
   },
   "source": [
    "## Bayesian statistics in 3 steps (simplified workflow)\n",
    "\n",
    "<br>\n",
    "\n",
    "1. **Create a probabilistic model**. Probabilistic models are _stories_ about how the observed data is generated. The models are expressed using probability distributions.\n",
    "\n",
    "\n",
    "2. **Condition the model to the observed data in order to obtain the posterior**. Using the Bayes theorem, the prior distribution is updated according to the observed data, obtaining the posterior distribution.\n",
    "\n",
    "\n",
    "3. <font color = \"gray\"> **Criticize the fit of the generated model to the data and evaluate the consequences of the model**. </font>"
   ]
  },
  {
   "cell_type": "markdown",
   "metadata": {
    "nbpresent": {
     "id": "1752f282-61fe-42b0-a0c8-31d05f2c8e5a"
    },
    "slideshow": {
     "slide_type": "slide"
    }
   },
   "source": [
    "## The statistics of magical coins\n",
    "\n",
    "<br>\n",
    "\n",
    "* We are going to model tossing a coin\n",
    "    * What is the probability of gastric cancer when taking low-dose of aspirin?\n",
    "    * What is the probability that people will agree on legalizing medical abortion?\n",
    "\n",
    "\n",
    "\n",
    "* Our parameter, $\\theta$, can take values in the interval [0, 1]\n",
    "    * $\\theta = 1 \\implies$ always get heads\n",
    "    * $\\theta = 0 \\implies$ always get tails.\n",
    "\n",
    "\n",
    "* According to Bayes' theorem we need to define a likelihood and a prior:\n",
    "\n",
    "\n",
    "$$p(\\theta \\mid y) \\propto \\underbrace{p(y \\mid \\theta)}_{\\text{?}} \\underbrace{p(\\theta)}_{?}$$\n"
   ]
  },
  {
   "cell_type": "markdown",
   "metadata": {
    "nbpresent": {
     "id": "a6e3c377-8d9e-4396-a5a8-3e0f3926b84d"
    },
    "slideshow": {
     "slide_type": "slide"
    }
   },
   "source": [
    "## The beta-binomial model\n",
    "\n",
    "<br>\n",
    "<br>\n",
    "Mathematical representation\n",
    "$$\n",
    "\\theta \\sim \\operatorname{Beta}(\\alpha, \\beta) \\\\\n",
    "y \\sim \\operatorname{Bin}(n=1, p=\\theta)\n",
    "$$\n",
    "\n",
    "\n",
    "<br>\n",
    "\n",
    "Visual representation\n",
    "<img src=\"img/modelo_1_moneda.png\" width=300>\n",
    "\n",
    "From top to bottom, we first have the prior, then the likelihood, and finally the data. The arrows indicate how the part of the model are related the symbol $\\sim$ indicates the stochastic nature of the variables."
   ]
  },
  {
   "cell_type": "code",
   "execution_count": 10,
   "metadata": {
    "nbpresent": {
     "id": "75216216-868d-4f0a-ab77-042f673db5c4"
    },
    "slideshow": {
     "slide_type": "slide"
    }
   },
   "outputs": [
    {
     "data": {
      "application/vnd.jupyter.widget-view+json": {
       "model_id": "5941b39b146f40a995d351b77f78765b",
       "version_major": 2,
       "version_minor": 0
      },
      "text/plain": [
       "interactive(children=(FloatSlider(value=2.0, description='α', max=7.0, min=0.5, step=0.5), FloatSlider(value=2…"
      ]
     },
     "metadata": {},
     "output_type": "display_data"
    }
   ],
   "source": [
    "def beta(α, β):\n",
    "    x = np.linspace(0, 1, 130)\n",
    "    beta = stats.beta(α, β)\n",
    "    plt.plot(x, beta.pdf(x))\n",
    "    plt.yticks([])\n",
    "    plt.ylim(0, 6)\n",
    "\n",
    "interact(beta,\n",
    "         α=ipyw.FloatSlider(min=0.5, max=7, step=0.5, value=2),\n",
    "         β=ipyw.FloatSlider(min=0.5, max=7, step=0.5, value=2));"
   ]
  },
  {
   "cell_type": "code",
   "execution_count": 11,
   "metadata": {
    "nbpresent": {
     "id": "8f7f8e91-ae8d-4f01-b29b-0f7e2bb0d8b1"
    },
    "slideshow": {
     "slide_type": "slide"
    }
   },
   "outputs": [
    {
     "data": {
      "application/vnd.jupyter.widget-view+json": {
       "model_id": "f572bb51f1894df08f9b10021f396730",
       "version_major": 2,
       "version_minor": 0
      },
      "text/plain": [
       "interactive(children=(IntSlider(value=1, description='n', max=10, min=1), FloatSlider(value=0.5, description='…"
      ]
     },
     "metadata": {},
     "output_type": "display_data"
    }
   ],
   "source": [
    "def binomial(n, θ):\n",
    "    bino = stats.binom(\n",
    "        n, θ)\n",
    "    plt.bar(range(n+1), bino.pmf(range(n+1)))\n",
    "    plt.xticks(range(n+1))\n",
    "    plt.ylim(0, 1);\n",
    "\n",
    "interact(binomial, n=ipyw.IntSlider(min=1, max=10, value=1), θ=ipyw.FloatSlider(min=0, max=1, step=0.05, value=0.5));"
   ]
  },
  {
   "cell_type": "markdown",
   "metadata": {
    "nbpresent": {
     "id": "6fe8d8ca-0bf8-47ef-8170-b375eede645a"
    },
    "slideshow": {
     "slide_type": "slide"
    }
   },
   "source": [
    "### The posterior\n",
    "\n",
    "It can be shown that whenever we use a beta distribution as prior and a binomial distribution as likelihood we will obtain a posterior that will be a beta distribution with the following parameters:\n",
    "\n",
    "\n",
    "<br>\n",
    "\n",
    "$$\n",
    "p(\\theta \\mid y) \\propto \\operatorname{Beta}(\\alpha=\\alpha_{prior} + y , \\quad \\beta= \\beta_{prior} + N - y)\n",
    "$$\n",
    "\n",
    "<br>\n",
    "\n",
    "When it is fulfilled that for a certain likelihood the functional form of a prior and that of the a posterior is the same, it is said that the prior is conjugated with the _likelihood_."
   ]
  },
  {
   "cell_type": "code",
   "execution_count": 12,
   "metadata": {
    "hide_input": true,
    "nbpresent": {
     "id": "bf1b519c-69dd-42d5-b637-80ef31d70d7f"
    },
    "scrolled": false,
    "slideshow": {
     "slide_type": "slide"
    }
   },
   "outputs": [
    {
     "data": {
      "image/png": "[encoded data removed]",
      "text/plain": [
       "<Figure size 1000x800 with 10 Axes>"
      ]
     },
     "metadata": {},
     "output_type": "display_data"
    }
   ],
   "source": [
    "plt.figure(figsize=(10, 8))\n",
    "\n",
    "n_trials = [0, 1, 2, 3, 4, 8, 16, 32, 50, 150]\n",
    "data = [0, 1, 1, 1, 1, 4, 6, 9, 13, 48]\n",
    "theta_real = 0.35\n",
    "\n",
    "beta_params = [(1, 1), (0.5, 0.5), (20, 20)]\n",
    "dist = stats.beta\n",
    "x = np.linspace(0, 1, 500)\n",
    "\n",
    "for idx, N in enumerate(n_trials):\n",
    "    if idx == 0:\n",
    "        plt.subplot(4, 3, 2)\n",
    "        plt.xlabel('θ')\n",
    "    else:\n",
    "        plt.subplot(4, 3, idx+3)\n",
    "        plt.xticks([])\n",
    "    y = data[idx]\n",
    "    for (a_prior, b_prior) in beta_params:\n",
    "        p_theta_given_y = dist.pdf(x, a_prior + y, b_prior + N - y)\n",
    "        plt.fill_between(x, 0, p_theta_given_y, alpha=0.7)\n",
    "\n",
    "    plt.axvline(theta_real, ymax=0.3, color='k')\n",
    "    plt.plot(0, 0, label=f'{N:4d} trials\\n{y:4d} heads', alpha=0)\n",
    "    plt.xlim(0, 1)\n",
    "    plt.ylim(0, 12)\n",
    "    plt.legend()\n",
    "    plt.yticks([])\n",
    "plt.tight_layout()"
   ]
  },
  {
   "cell_type": "markdown",
   "metadata": {
    "slideshow": {
     "slide_type": "slide"
    }
   },
   "source": [
    "## Bayesian statistics in a nutshell\n",
    "\n",
    "* Models produce data\n",
    "* Models has unknown parameters\n",
    "* We associate prior probability distributions to parameters\n",
    "* Bayes' theorem allow us to combine data and the prior distribution\n",
    "* The posterior is the joint distribution of parameters after seen the data\n",
    "* Hopefully the posterior distribution will have less uncertainty than the prior distribution"
   ]
  },
  {
   "cell_type": "markdown",
   "metadata": {
    "slideshow": {
     "slide_type": "slide"
    }
   },
   "source": [
    "# Exercises\n",
    "\n",
    "\n",
    "1. Which of the following expressions correspond to the statement \"the probability of rain since it is May 25, 1810\"??\n",
    "    * p(rain)\n",
    "    * p(rain | may)\n",
    "    * p(May 25, 1810 | rain)\n",
    "    * p(rain | May 25, 1810)\n",
    "    * p(rain, May 25, 1810) / p(May 25, 1810)\n",
    "\n",
    "\n",
    "2. Use words to describe each of probability statement from exercise 1\n",
    "\n",
    "3. Show that the probability of choosing a human at random and picking the Pope is not the same as the probability of the Pope being human. In the animated series Futurama, the (Space) Pope is a reptile. How does this change your previous calculations?\n",
    "\n",
    "4. Following the definition of conditional probability\n",
    "    * What is the value of $P(A \\mid A)$?\n",
    "    * Rewrite $P(A, B)$\n",
    "    * Rewrite $P(A, B)$ for the particular case when $A$ and $B$ are independent? \n",
    "    * When it is true that $P(A \\mid B) = P(A)$?\n",
    "    * Is this possible $P(A \\mid B) > P(A)$, When?\n",
    "    * Is this possible $P(A \\mid B) < P(A)$, When?\n",
    "\n",
    "5. Starting from the definition of conditional probability obtain Bayes' theorem\n",
    "\n",
    "\n",
    "6. Use the following interactive widget to explore different combinations of priors and likelihoods. Summarize the observations that you consider most relevant."
   ]
  },
  {
   "cell_type": "code",
   "execution_count": 13,
   "metadata": {
    "slideshow": {
     "slide_type": "slide"
    }
   },
   "outputs": [
    {
     "data": {
      "application/vnd.jupyter.widget-view+json": {
       "model_id": "b6698b69c335429da3a709a5816442a4",
       "version_major": 2,
       "version_minor": 0
      },
      "text/plain": [
       "interactive(children=(IntSlider(value=15, description='grid', min=2), FloatSlider(value=1.0, description='α', …"
      ]
     },
     "metadata": {},
     "output_type": "display_data"
    }
   ],
   "source": [
    "def posterior_grid(grid=10, α=1, β=1, heads=6, trials=9):\n",
    "    grid = np.linspace(0, 1, grid)\n",
    "    prior = stats.beta(α, β).pdf(grid)\n",
    "    likelihood = stats.binom.pmf(heads, trials, grid)\n",
    "    posterior = likelihood * prior\n",
    "    posterior /= posterior.sum()\n",
    "    _, ax = plt.subplots(1, 3, sharex=True, figsize=(16, 4))\n",
    "    ax[0].set_title('heads = {}\\ntrials = {}'.format(heads, trials))\n",
    "    for i, (e, e_n) in enumerate(zip([prior, likelihood, posterior], ['prior', 'likelihood', 'posterior'])):\n",
    "        ax[i].set_yticks([])\n",
    "        ax[i].plot(grid, e, 'o-', label=e_n)\n",
    "        ax[i].legend(fontsize=14)\n",
    "\n",
    "\n",
    "interact(posterior_grid, grid=ipyw.IntSlider(min=2, max=100, step=1, value=15), α=ipyw.FloatSlider(min=1, max=7, step=1, value=1), β=ipyw.FloatSlider(\n",
    "    min=1, max=7, step=1, value=1), heads=ipyw.IntSlider(min=0, max=20, step=1, value=6), trials=ipyw.IntSlider(min=0, max=20, step=1, value=9));"
   ]
  }
 ],
 "metadata": {
  "celltoolbar": "Slideshow",
  "hide_input": false,
  "kernelspec": {
   "display_name": "Python 3",
   "language": "python",
   "name": "python3"
  },
  "language_info": {
   "codemirror_mode": {
    "name": "ipython",
    "version": 3
   },
   "file_extension": ".py",
   "mimetype": "text/x-python",
   "name": "python",
   "nbconvert_exporter": "python",
   "pygments_lexer": "ipython3",
   "version": "3.7.1"
  }
 },
 "nbformat": 4,
 "nbformat_minor": 2
}
